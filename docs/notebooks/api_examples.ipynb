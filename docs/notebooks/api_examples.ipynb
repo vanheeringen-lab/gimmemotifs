{
 "cells": [
  {
   "cell_type": "code",
   "execution_count": 1,
   "metadata": {},
   "outputs": [
    {
     "name": "stdout",
     "output_type": "stream",
     "text": [
      "/home/simon/anaconda3/envs/gimme/lib/python3.6/site-packages/gimmemotifs-0.13.0+35.gfd2d0cc.dirty-py3.6-linux-x86_64.egg/data/examples\n"
     ]
    }
   ],
   "source": [
    "from pkg_resources import resource_filename\n",
    "data_dir = resource_filename(\"gimmemotifs\", \"../data/examples\")\n",
    "\n",
    "%cd {data_dir}"
   ]
  },
  {
   "cell_type": "code",
   "execution_count": 2,
   "metadata": {},
   "outputs": [
    {
     "name": "stdout",
     "output_type": "stream",
     "text": [
      "AP1_ATGAsTCAy\n",
      "CTCF_syGCCmyCTrGTGG\n"
     ]
    }
   ],
   "source": [
    "from gimmemotifs.motif import Motif,read_motifs\n",
    "\n",
    "# Read from file\n",
    "motifs = read_motifs(\"example.pfm\")\n",
    "\n",
    "for motif in motifs:\n",
    "    print(motif)"
   ]
  },
  {
   "cell_type": "code",
   "execution_count": 3,
   "metadata": {},
   "outputs": [
    {
     "name": "stdout",
     "output_type": "stream",
     "text": [
      "{'AP1': AP1_ATGAsTCAy, 'CTCF': CTCF_syGCCmyCTrGTGG}\n"
     ]
    }
   ],
   "source": [
    "# Read from file to a dictionary\n",
    "motifs = read_motifs(\"example.pfm\", as_dict=True)\n",
    "print(motifs)"
   ]
  },
  {
   "cell_type": "code",
   "execution_count": 4,
   "metadata": {},
   "outputs": [
    {
     "name": "stdout",
     "output_type": "stream",
     "text": [
      "579\n",
      ">MA0004.1_Arnt\n",
      "0.2000\t0.7999\t0.0000\t0.0000\n",
      "0.9499\t0.0000\t0.0500\t0.0000\n",
      "0.0000\t0.9999\t0.0000\t0.0000\n",
      "0.0000\t0.0000\t0.9999\t0.0000\n",
      "0.0000\t0.0000\t0.0000\t0.9999\n",
      "0.0000\t0.0000\t0.9999\t0.0000\n"
     ]
    }
   ],
   "source": [
    "# Read any motif database included with gimmemotifs by name\n",
    "motifs = read_motifs(\"JASPAR2018_vertebrates\")\n",
    "print(len(motifs))\n",
    "print(motifs[0].to_ppm())"
   ]
  },
  {
   "cell_type": "code",
   "execution_count": 5,
   "metadata": {},
   "outputs": [
    {
     "name": "stdout",
     "output_type": "stream",
     "text": [
      "CpG_CG\n"
     ]
    }
   ],
   "source": [
    "# Create from scratch\n",
    "m = Motif([[0,1,0,0],[0,0,1,0]])\n",
    "m.id = \"CpG\"\n",
    "print(m)"
   ]
  },
  {
   "cell_type": "code",
   "execution_count": 6,
   "metadata": {},
   "outputs": [
    {
     "name": "stdout",
     "output_type": "stream",
     "text": [
      ">TGASTCA\n",
      "0.0001\t0.0001\t0.0001\t0.9998\n",
      "0.0001\t0.0001\t0.9998\t0.0001\n",
      "0.9998\t0.0001\t0.0001\t0.0001\n",
      "0.0001\t0.4999\t0.4999\t0.0001\n",
      "0.0001\t0.0001\t0.0001\t0.9998\n",
      "0.0001\t0.9998\t0.0001\t0.0001\n",
      "0.9998\t0.0001\t0.0001\t0.0001\n"
     ]
    }
   ],
   "source": [
    "# Or from a consensus sequence\n",
    "from gimmemotifs.motif import motif_from_consensus\n",
    "ap1 = motif_from_consensus(\"TGASTCA\")\n",
    "print(ap1.to_ppm())"
   ]
  },
  {
   "cell_type": "markdown",
   "metadata": {},
   "source": [
    "Read motifs from files in other formats.\n"
   ]
  },
  {
   "cell_type": "code",
   "execution_count": 7,
   "metadata": {},
   "outputs": [
    {
     "name": "stdout",
     "output_type": "stream",
     "text": [
      "MA0099.3\tFOS::JUN_ATGAGTCAyn\n"
     ]
    }
   ],
   "source": [
    "with open(\"MA0099.3.jaspar\") as f:\n",
    "    motifs = read_motifs(f, fmt=\"jaspar\")\n",
    "print(motifs[0])"
   ]
  },
  {
   "cell_type": "markdown",
   "metadata": {},
   "source": [
    "You can convert a motif to several formats.\n"
   ]
  },
  {
   "cell_type": "code",
   "execution_count": 8,
   "metadata": {},
   "outputs": [
    {
     "name": "stdout",
     "output_type": "stream",
     "text": [
      ">AP1\n",
      "0.5558\t0.1469\t0.2734\t0.0240\n",
      "0.0020\t0.0015\t0.0017\t0.9948\n",
      "0.0039\t0.0019\t0.9502\t0.0439\n",
      "0.9697\t0.0220\t0.0018\t0.0065\n",
      "0.0377\t0.3311\t0.6030\t0.0283\n",
      "0.0033\t0.0031\t0.0043\t0.9893\n",
      "0.0188\t0.9775\t0.0023\t0.0014\n",
      "0.9951\t0.0021\t0.0012\t0.0015\n",
      "0.0121\t0.3096\t0.1221\t0.5561\n"
     ]
    }
   ],
   "source": [
    "with open(\"example.pfm\") as f:\n",
    "    motifs = read_motifs(f)\n",
    "\n",
    "# pwm\n",
    "print(motifs[0].to_ppm())"
   ]
  },
  {
   "cell_type": "code",
   "execution_count": 9,
   "metadata": {},
   "outputs": [
    {
     "name": "stdout",
     "output_type": "stream",
     "text": [
      ">AP1\n",
      "555.8\t146.9\t273.4\t24.0\n",
      "2.0\t1.5\t1.7\t994.8000000000001\n",
      "3.9\t1.9\t950.2\t43.9\n",
      "969.7\t22.0\t1.8\t6.5\n",
      "37.699999999999996\t331.1\t603.0\t28.299999999999997\n",
      "3.3\t3.1\t4.3\t989.3\n",
      "18.8\t977.5\t2.3\t1.4\n",
      "995.1\t2.1\t1.2\t1.5\n",
      "12.1\t309.59999999999997\t122.1\t556.1\n"
     ]
    }
   ],
   "source": [
    "# pfm\n",
    "print(motifs[0].to_pfm())"
   ]
  },
  {
   "cell_type": "code",
   "execution_count": 10,
   "metadata": {},
   "outputs": [
    {
     "name": "stdout",
     "output_type": "stream",
     "text": [
      "ATGAsTCAy\n"
     ]
    }
   ],
   "source": [
    "# consensus sequence\n",
    "print(motifs[0].to_consensus())"
   ]
  },
  {
   "cell_type": "code",
   "execution_count": 11,
   "metadata": {},
   "outputs": [
    {
     "name": "stdout",
     "output_type": "stream",
     "text": [
      "DE\tAP1\tunknown\n",
      "0\t555\t146\t273\t24\tA\n",
      "1\t2\t1\t1\t994\tT\n",
      "2\t3\t1\t950\t43\tG\n",
      "3\t969\t22\t1\t6\tA\n",
      "4\t37\t331\t603\t28\ts\n",
      "5\t3\t3\t4\t989\tT\n",
      "6\t18\t977\t2\t1\tC\n",
      "7\t995\t2\t1\t1\tA\n",
      "8\t12\t309\t122\t556\ty\n",
      "XX\n"
     ]
    }
   ],
   "source": [
    "# TRANSFAC\n",
    "print(motifs[0].to_transfac())"
   ]
  },
  {
   "cell_type": "code",
   "execution_count": 12,
   "metadata": {},
   "outputs": [
    {
     "name": "stdout",
     "output_type": "stream",
     "text": [
      "MOTIF AP1\n",
      "BL   MOTIF AP1 width=0 seqs=0\n",
      "letter-probability matrix: alength= 4 w= 9 nsites= 1000.1 E= 0\n",
      "0.5558\t0.1469\t0.2734\t0.024\n",
      "0.002\t0.0015\t0.0017\t0.9948\n",
      "0.0039\t0.0019\t0.9502\t0.0439\n",
      "0.9697\t0.022\t0.0018\t0.0065\n",
      "0.0377\t0.3311\t0.603\t0.0283\n",
      "0.0033\t0.0031\t0.0043\t0.9893\n",
      "0.0188\t0.9775\t0.0023\t0.0014\n",
      "0.9951\t0.0021\t0.0012\t0.0015\n",
      "0.0121\t0.3096\t0.1221\t0.5561\n"
     ]
    }
   ],
   "source": [
    "# MEME\n",
    "print(motifs[0].to_meme())"
   ]
  },
  {
   "cell_type": "markdown",
   "metadata": {},
   "source": [
    "Some other useful tidbits."
   ]
  },
  {
   "cell_type": "code",
   "execution_count": 13,
   "metadata": {},
   "outputs": [
    {
     "name": "stdout",
     "output_type": "stream",
     "text": [
      "9\n"
     ]
    }
   ],
   "source": [
    "m = motif_from_consensus(\"NTGASTCAN\")\n",
    "print(len(m))"
   ]
  },
  {
   "cell_type": "code",
   "execution_count": 14,
   "metadata": {},
   "outputs": [
    {
     "name": "stdout",
     "output_type": "stream",
     "text": [
      "TGAsTCA 7\n"
     ]
    }
   ],
   "source": [
    "# Trim by information content\n",
    "m.trim(0.5)\n",
    "print(m.to_consensus(), len(m))"
   ]
  },
  {
   "cell_type": "code",
   "execution_count": 15,
   "metadata": {},
   "outputs": [
    {
     "name": "stdout",
     "output_type": "stream",
     "text": [
      "TGA\n"
     ]
    }
   ],
   "source": [
    "# Slices\n",
    "print(m[:3].to_consensus())"
   ]
  },
  {
   "cell_type": "code",
   "execution_count": 16,
   "metadata": {},
   "outputs": [
    {
     "name": "stdout",
     "output_type": "stream",
     "text": [
      "random_sGTAnATGn\n"
     ]
    }
   ],
   "source": [
    "# Shuffle\n",
    "random_motif = motif_from_consensus(\"NTGASTGAN\").randomize()\n",
    "print(random_motif)"
   ]
  },
  {
   "cell_type": "markdown",
   "metadata": {},
   "source": [
    "To convert a motif to an image, use `plot_logo()`. Supported formats are png, ps and pdf."
   ]
  },
  {
   "cell_type": "code",
   "execution_count": 17,
   "metadata": {},
   "outputs": [],
   "source": [
    "m = motif_from_consensus(\"NTGASTCAN\")\n",
    "m.plot_logo(\"ap1.png\", fmt=\"png\")"
   ]
  },
  {
   "cell_type": "code",
   "execution_count": 18,
   "metadata": {},
   "outputs": [
    {
     "data": {
      "image/png": "[encoded data removed]",
      "text/plain": [
       "<IPython.core.display.Image object>"
      ]
     },
     "execution_count": 18,
     "metadata": {},
     "output_type": "execute_result"
    }
   ],
   "source": [
    "from IPython.display import Image\n",
    "Image(\"ap1.png\")"
   ]
  },
  {
   "cell_type": "markdown",
   "metadata": {},
   "source": [
    "# Motif scanning\n",
    "\n",
    "For very simple scanning, you can just use a Motif instance. Let’s say we have a FASTA file called `test.small.fa` that looks like this:\n",
    "\n",
    "```\n",
    ">seq1\n",
    "AAAAAAAAAAAAAAAAAAAAAA\n",
    ">seq2\n",
    "CGCGCGTGAGTCACGCGCGCGCG\n",
    ">seq3\n",
    "TGASTCAAAAAAAAAATGASTCA\n",
    "```\n",
    "\n",
    "Now we can use this file for scanning."
   ]
  },
  {
   "cell_type": "code",
   "execution_count": 19,
   "metadata": {},
   "outputs": [
    {
     "data": {
      "text/plain": [
       "{'seq1': [], 'seq2': [6, 6], 'seq3': [0, 16, 0, 16]}"
      ]
     },
     "execution_count": 19,
     "metadata": {},
     "output_type": "execute_result"
    }
   ],
   "source": [
    "from gimmemotifs.motif import motif_from_consensus\n",
    "from gimmemotifs.fasta import Fasta\n",
    "\n",
    "f = Fasta(\"test.small.fa\")\n",
    "m = motif_from_consensus(\"TGAsTCA\")\n",
    "\n",
    "m.scan(f)"
   ]
  },
  {
   "cell_type": "markdown",
   "metadata": {},
   "source": [
    "This return a dictionary with the sequence names as keys. The value is a list with positions where the motif matches. Here, as the AP1 motif is a palindrome, you see matches on both forward and reverse strand. This is more clear when we use `scan_all()` that returns position, score and strand for every match."
   ]
  },
  {
   "cell_type": "code",
   "execution_count": 20,
   "metadata": {},
   "outputs": [
    {
     "data": {
      "text/plain": [
       "{'seq1': [],\n",
       " 'seq2': [(6, 9.02922042678255, 1), (6, 9.02922042678255, -1)],\n",
       " 'seq3': [(0, 8.331251500673487, 1),\n",
       "  (16, 8.331251500673487, 1),\n",
       "  (0, 8.331251500673487, -1),\n",
       "  (16, 8.331251500673487, -1)]}"
      ]
     },
     "execution_count": 20,
     "metadata": {},
     "output_type": "execute_result"
    }
   ],
   "source": [
    "m.scan_all(f)"
   ]
  },
  {
   "cell_type": "markdown",
   "metadata": {},
   "source": [
    "The number of matches to return is set to 50 by default, you can control this by setting the `nreport` argument. Use `scan_rc=False` to only scan the forward orientation.\n"
   ]
  },
  {
   "cell_type": "code",
   "execution_count": 21,
   "metadata": {},
   "outputs": [
    {
     "data": {
      "text/plain": [
       "{'seq1': [],\n",
       " 'seq2': [(6, 9.02922042678255, 1)],\n",
       " 'seq3': [(0, 8.331251500673487, 1)]}"
      ]
     },
     "execution_count": 21,
     "metadata": {},
     "output_type": "execute_result"
    }
   ],
   "source": [
    "m.scan_all(f, nreport=1, scan_rc=False)"
   ]
  },
  {
   "cell_type": "markdown",
   "metadata": {},
   "source": [
    "While this functionality works, it is not very efficient. To scan many motifs in potentially many sequences, use the functionality in the `scanner` module. If you only want the best match per sequence, there is a utility function called `scan_to_best_match`, otherwise, use the `Scanner` class."
   ]
  },
  {
   "cell_type": "code",
   "execution_count": 22,
   "metadata": {},
   "outputs": [
    {
     "name": "stdout",
     "output_type": "stream",
     "text": [
      "motif\tpos\tscore\n",
      "AP1\t0\t-20.052563923836903\n",
      "AP1\t6\t9.029486018303187\n",
      "AP1\t0\t8.331550321011443\n",
      "CG\t0\t-18.26379789133924\n",
      "CG\t0\t5.554366880674296\n",
      "CG\t0\t-7.743307225501047\n"
     ]
    }
   ],
   "source": [
    "from gimmemotifs.motif import motif_from_consensus\n",
    "from gimmemotifs.scanner import scan_to_best_match\n",
    "\n",
    "m1 = motif_from_consensus(\"TGAsTCA\")\n",
    "m1.id = \"AP1\"\n",
    "m2 = motif_from_consensus(\"CGCG\")\n",
    "m2.id = \"CG\"\n",
    "motifs = [m1, m2]\n",
    "\n",
    "print(\"motif\\tpos\\tscore\")\n",
    "result = scan_to_best_match(\"test.small.fa\", motifs)\n",
    "for motif, matches in result.items():\n",
    "    for match in matches:\n",
    "        print(\"{}\\t{}\\t{}\".format(motif, match[1], match[0]))\n"
   ]
  },
  {
   "cell_type": "markdown",
   "metadata": {},
   "source": [
    "The matches are in the same order as the sequences in the original file.\n",
    "\n",
    "While this function can be very useful, a Scanner instance is much more flexible. You can scan different input formats (BED, FASTA, regions), and control the thresholds and output.\n",
    "\n",
    "As an example we will use the file `Gm12878.CTCF.top500.w200.fa` that contains 500 top CTCF peaks. We will get the CTCF motif and scan this file in a number of different ways.\n"
   ]
  },
  {
   "cell_type": "code",
   "execution_count": 24,
   "metadata": {},
   "outputs": [],
   "source": [
    "from gimmemotifs.motif import default_motifs\n",
    "from gimmemotifs.scanner import Scanner\n",
    "from gimmemotifs.fasta import Fasta\n",
    "import numpy as np\n",
    "\n",
    "# Input file\n",
    "fname = \"Gm12878.CTCF.top500.w200.fa\"\n",
    "\n",
    "# Select the CTCF motif from the default motif database\n",
    "motifs = [m for m in default_motifs() if \"CTCF\" in m.factors['direct']][:1]\n",
    "\n",
    "# Initialize the scanner\n",
    "s = Scanner()\n",
    "s.set_motifs(motifs)"
   ]
  },
  {
   "cell_type": "markdown",
   "metadata": {},
   "source": [
    "Now let’s get the best score for the CTCF motif for each sequence."
   ]
  },
  {
   "cell_type": "code",
   "execution_count": 25,
   "metadata": {},
   "outputs": [
    {
     "name": "stdout",
     "output_type": "stream",
     "text": [
      "500\t11.00\t1.45\t15.07\n"
     ]
    }
   ],
   "source": [
    "scores = [r[0] for r in s.best_score(\"Gm12878.CTCF.top500.w200.fa\")]\n",
    "print(\"{}\\t{:.2f}\\t{:.2f}\\t{:.2f}\".format(\n",
    "    len(scores),\n",
    "    np.mean(scores),\n",
    "    np.min(scores),\n",
    "    np.max(scores)\n",
    "    ))"
   ]
  },
  {
   "cell_type": "markdown",
   "metadata": {},
   "source": [
    "In many cases you’ll want to set a threshold. In this example we’ll use a 1% FPR threshold, based on scanning randomly selected sequences from the hg38 genome. The first time you run this, it will take a while. However, the tresholds will be cached. This means that for the same combination of motifs and genome, the previously generated threshold will be used.\n"
   ]
  },
  {
   "cell_type": "code",
   "execution_count": 26,
   "metadata": {},
   "outputs": [
    {
     "name": "stderr",
     "output_type": "stream",
     "text": [
      "2018-12-05 02:18:08,850 - INFO - Using default background: genome hg38 with length 200\n",
      "2018-12-05 02:18:08,853 - INFO - Using background: genome hg38 with length 200\n"
     ]
    },
    {
     "name": "stdout",
     "output_type": "stream",
     "text": [
      "[1, 1, 1, 1, 1, 1, 1, 1, 1, 1]\n"
     ]
    }
   ],
   "source": [
    "# Set a 1% FPR threshold based on random hg38 sequence\n",
    "s.set_genome(\"hg38\")\n",
    "s.set_threshold(fpr=0.01)\n",
    "\n",
    "# get the number of sequences with at least one match\n",
    "counts = [n[0] for n in s.count(\"Gm12878.CTCF.top500.w200.fa\", nreport=1)]\n",
    "print(counts[:10])"
   ]
  },
  {
   "cell_type": "code",
   "execution_count": 27,
   "metadata": {},
   "outputs": [
    {
     "name": "stdout",
     "output_type": "stream",
     "text": [
      "[414]\n"
     ]
    }
   ],
   "source": [
    "# or the grand total of number of sequences with 1 match\n",
    "print(s.total_count(\"Gm12878.CTCF.top500.w200.fa\", nreport=1))"
   ]
  },
  {
   "cell_type": "code",
   "execution_count": 28,
   "metadata": {},
   "outputs": [
    {
     "name": "stdout",
     "output_type": "stream",
     "text": [
      "chr11:190037-190237 GM.5.0.C2H2_ZF.0024_syGCCmyCTrGTGG 11.987579910503003 142 1\n",
      "chr11:190037-190237 GM.5.0.C2H2_ZF.0024_syGCCmyCTrGTGG 9.366964008790466 21 1\n",
      "chr11:190037-190237 GM.5.0.C2H2_ZF.0024_syGCCmyCTrGTGG 9.049239042402315 81 1\n",
      "chr14:106873577-106873777 GM.5.0.C2H2_ZF.0024_syGCCmyCTrGTGG 15.066074431157894 119 1\n",
      "chr14:106873577-106873777 GM.5.0.C2H2_ZF.0024_syGCCmyCTrGTGG 14.695942248831264 82 1\n",
      "chr14:106873577-106873777 GM.5.0.C2H2_ZF.0024_syGCCmyCTrGTGG 12.362503901152305 26 1\n",
      "chr14:106873577-106873777 GM.5.0.C2H2_ZF.0024_syGCCmyCTrGTGG 9.885395021504959 158 1\n",
      "chr14:106873577-106873777 GM.5.0.C2H2_ZF.0024_syGCCmyCTrGTGG 9.035150927051049 100 1\n",
      "chr14:106873577-106873777 GM.5.0.C2H2_ZF.0024_syGCCmyCTrGTGG 8.943385403326214 6 1\n",
      "chr14:106765204-106765404 GM.5.0.C2H2_ZF.0024_syGCCmyCTrGTGG 15.066074431157894 144 1\n",
      "chr14:106765204-106765404 GM.5.0.C2H2_ZF.0024_syGCCmyCTrGTGG 14.76300111320958 184 1\n",
      "chr14:106765204-106765404 GM.5.0.C2H2_ZF.0024_syGCCmyCTrGTGG 14.629818549380293 164 1\n",
      "chr14:106765204-106765404 GM.5.0.C2H2_ZF.0024_syGCCmyCTrGTGG 13.7098269913903 26 1\n",
      "chr14:106765204-106765404 GM.5.0.C2H2_ZF.0024_syGCCmyCTrGTGG 12.732636083478935 125 1\n",
      "chr14:106765204-106765404 GM.5.0.C2H2_ZF.0024_syGCCmyCTrGTGG 12.180200548235172 66 1\n",
      "chr15:22461178-22461378 GM.5.0.C2H2_ZF.0024_syGCCmyCTrGTGG 15.066074431157894 27 1\n",
      "chr15:22461178-22461378 GM.5.0.C2H2_ZF.0024_syGCCmyCTrGTGG 15.066074431157894 184 1\n",
      "chr15:22461178-22461378 GM.5.0.C2H2_ZF.0024_syGCCmyCTrGTGG 14.237178252975294 66 1\n",
      "chr15:22461178-22461378 GM.5.0.C2H2_ZF.0024_syGCCmyCTrGTGG 12.362503901152305 146 1\n",
      "chr15:22461178-22461378 GM.5.0.C2H2_ZF.0024_syGCCmyCTrGTGG 11.986694533589388 125 1\n",
      "chr15:22461178-22461378 GM.5.0.C2H2_ZF.0024_syGCCmyCTrGTGG 11.010111555985224 6 1\n",
      "chr14:107119996-107120196 GM.5.0.C2H2_ZF.0024_syGCCmyCTrGTGG 12.732636083478935 36 1\n",
      "chr14:107119996-107120196 GM.5.0.C2H2_ZF.0024_syGCCmyCTrGTGG 12.732636083478935 94 1\n",
      "chr14:107119996-107120196 GM.5.0.C2H2_ZF.0024_syGCCmyCTrGTGG 12.732636083478935 152 1\n",
      "chr14:107119996-107120196 GM.5.0.C2H2_ZF.0024_syGCCmyCTrGTGG 10.821419305539889 74 1\n",
      "chr14:107119996-107120196 GM.5.0.C2H2_ZF.0024_syGCCmyCTrGTGG 10.75850548012932 16 1\n",
      "chr14:107119996-107120196 GM.5.0.C2H2_ZF.0024_syGCCmyCTrGTGG 10.75850548012932 132 1\n",
      "chr14:107238917-107239117 GM.5.0.C2H2_ZF.0024_syGCCmyCTrGTGG 15.066074431157894 91 1\n",
      "chr14:107238917-107239117 GM.5.0.C2H2_ZF.0024_syGCCmyCTrGTGG 12.180200548235172 33 1\n",
      "chr14:107238917-107239117 GM.5.0.C2H2_ZF.0024_syGCCmyCTrGTGG 10.065681099588275 14 1\n",
      "chr14:107238917-107239117 GM.5.0.C2H2_ZF.0024_syGCCmyCTrGTGG 9.248968117435332 53 1\n",
      "chr14:107238917-107239117 GM.5.0.C2H2_ZF.0024_syGCCmyCTrGTGG 9.248968117435332 111 1\n",
      "chr6:53036754-53036954 GM.5.0.C2H2_ZF.0024_syGCCmyCTrGTGG 9.03332830388423 62 -1\n",
      "chr14:107147705-107147905 GM.5.0.C2H2_ZF.0024_syGCCmyCTrGTGG 14.607310435301924 32 1\n",
      "chr14:107147705-107147905 GM.5.0.C2H2_ZF.0024_syGCCmyCTrGTGG 14.171054553524323 148 1\n",
      "chr14:107147705-107147905 GM.5.0.C2H2_ZF.0024_syGCCmyCTrGTGG 12.015417890970234 91 1\n",
      "chr14:107147705-107147905 GM.5.0.C2H2_ZF.0024_syGCCmyCTrGTGG 12.015417890970234 129 1\n",
      "chr14:50328834-50329034 GM.5.0.C2H2_ZF.0024_syGCCmyCTrGTGG 11.417325296846556 133 -1\n",
      "chr1:114889205-114889405 GM.5.0.C2H2_ZF.0024_syGCCmyCTrGTGG 10.747636638875207 124 -1\n"
     ]
    }
   ],
   "source": [
    "# Scanner.scan() just gives all information\n",
    "seqs = Fasta(\"Gm12878.CTCF.top500.w200.fa\")[:10]\n",
    "for i,result in enumerate(s.scan(seqs)):\n",
    "    seqname = seqs.ids[i]\n",
    "    for m,matches in enumerate(result):\n",
    "        motif = motifs[m]\n",
    "        for score, pos, strand in matches:\n",
    "            print(seqname, motif, score, pos, strand)"
   ]
  },
  {
   "cell_type": "markdown",
   "metadata": {},
   "source": [
    "# Finding de novo motifs\n",
    "\n",
    "Let’s take the `Gm12878.CTCF.top500.w200.fa` file as example again. For a basic example we’ll just use two motif finders, as they’re quick to run.\n"
   ]
  },
  {
   "cell_type": "code",
   "execution_count": 29,
   "metadata": {},
   "outputs": [
    {
     "name": "stderr",
     "output_type": "stream",
     "text": [
      "2018-12-05 02:18:10,850 - INFO - starting full motif analysis\n",
      "2018-12-05 02:18:10,853 - INFO - preparing input (FASTA)\n",
      "not enough random sequences found for 0.7000000000000001 <= GC < 0.75 (83 instead of 100)\n",
      "2018-12-05 02:19:19,484 - INFO - starting motif prediction (medium)\n",
      "2018-12-05 02:19:19,487 - INFO - tools: BioProspector, Homer\n",
      "2018-12-05 02:19:20,146 - INFO - all jobs submitted\n",
      "2018-12-05 02:19:23,902 - INFO - Homer_width_5 finished, found 5 motifs\n",
      "2018-12-05 02:19:24,247 - INFO - Homer_width_6 finished, found 5 motifs\n",
      "2018-12-05 02:19:25,217 - INFO - Homer_width_7 finished, found 5 motifs\n",
      "2018-12-05 02:19:26,671 - INFO - Homer_width_8 finished, found 5 motifs\n",
      "2018-12-05 02:19:28,930 - INFO - Homer_width_9 finished, found 5 motifs\n",
      "2018-12-05 02:19:29,602 - INFO - Homer_width_10 finished, found 5 motifs\n",
      "2018-12-05 02:19:30,393 - INFO - BioProspector_width_5 finished, found 5 motifs\n",
      "2018-12-05 02:19:30,642 - INFO - BioProspector_width_6 finished, found 5 motifs\n",
      "2018-12-05 02:19:31,293 - INFO - BioProspector_width_7 finished, found 5 motifs\n",
      "2018-12-05 02:19:31,892 - INFO - BioProspector_width_8 finished, found 5 motifs\n",
      "2018-12-05 02:19:32,083 - INFO - BioProspector_width_9 finished, found 5 motifs\n",
      "2018-12-05 02:19:32,479 - INFO - BioProspector_width_10 finished, found 5 motifs\n",
      "2018-12-05 02:19:41,497 - INFO - predicted 60 motifs\n",
      "2018-12-05 02:19:41,613 - INFO - 50 motifs are significant\n",
      "2018-12-05 02:19:41,704 - INFO - clustering 50 motifs.\n",
      "2018-12-05 02:21:00,349 - INFO - creating reports\n",
      "2018-12-05 02:22:17,818 - INFO - finished\n",
      "2018-12-05 02:22:17,822 - INFO - output dir: CTCF.gimme\n",
      "2018-12-05 02:22:17,825 - INFO - report: CTCF.gimme/motif_report.html\n"
     ]
    }
   ],
   "source": [
    "from gimmemotifs.denovo import gimme_motifs\n",
    "\n",
    "peaks = \"Gm12878.CTCF.top500.w200.fa\"\n",
    "outdir = \"CTCF.gimme\"\n",
    "params = {\n",
    "    \"tools\": \"Homer,BioProspector\",\n",
    "    \"genome\": \"hg38\",\n",
    "    }\n",
    "\n",
    "motifs = gimme_motifs(peaks, outdir, params=params)"
   ]
  },
  {
   "cell_type": "markdown",
   "metadata": {},
   "source": [
    "This will basically run the same pipeline as the `gimme motifs` command. All output files will be stored in outdir and `gimme_motifs` returns a `list` of `Motif` instances. If you only need the motifs but not the graphical report, you can decide to skip it by setting `create_report` to `False`. Additionally, you can choose to skip clustering (`cluster=False`) or to skip calculation of significance (`filter_significant=False`). For instance, the following command will only predict motifs and cluster them.\n"
   ]
  },
  {
   "cell_type": "code",
   "execution_count": 30,
   "metadata": {},
   "outputs": [
    {
     "name": "stderr",
     "output_type": "stream",
     "text": [
      "2018-12-05 02:22:17,889 - INFO - starting full motif analysis\n",
      "2018-12-05 02:22:17,893 - INFO - preparing input (FASTA)\n",
      "not enough random sequences found for 0.7000000000000001 <= GC < 0.75 (271 instead of 290)\n",
      "2018-12-05 02:22:47,000 - INFO - starting motif prediction (medium)\n",
      "2018-12-05 02:22:47,002 - INFO - tools: BioProspector, Homer\n",
      "2018-12-05 02:22:47,928 - INFO - all jobs submitted\n",
      "2018-12-05 02:22:51,852 - INFO - Homer_width_5 finished, found 5 motifs\n",
      "2018-12-05 02:22:52,728 - INFO - Homer_width_7 finished, found 5 motifs\n",
      "2018-12-05 02:22:53,196 - INFO - Homer_width_6 finished, found 5 motifs\n",
      "2018-12-05 02:22:54,898 - INFO - Homer_width_8 finished, found 5 motifs\n",
      "2018-12-05 02:22:56,287 - INFO - Homer_width_9 finished, found 5 motifs\n",
      "2018-12-05 02:22:57,110 - INFO - Homer_width_10 finished, found 5 motifs\n",
      "2018-12-05 02:22:58,226 - INFO - BioProspector_width_5 finished, found 5 motifs\n",
      "2018-12-05 02:22:59,184 - INFO - BioProspector_width_6 finished, found 5 motifs\n",
      "2018-12-05 02:23:00,207 - INFO - BioProspector_width_7 finished, found 5 motifs\n",
      "2018-12-05 02:23:00,756 - INFO - BioProspector_width_8 finished, found 5 motifs\n",
      "2018-12-05 02:23:00,905 - INFO - BioProspector_width_9 finished, found 5 motifs\n",
      "2018-12-05 02:23:01,666 - INFO - BioProspector_width_10 finished, found 5 motifs\n",
      "2018-12-05 02:23:09,414 - INFO - predicted 60 motifs\n",
      "2018-12-05 02:23:09,503 - INFO - not filtering for significance\n",
      "2018-12-05 02:23:09,614 - INFO - clustering 60 motifs.\n",
      "2018-12-05 02:25:05,541 - INFO - finished\n",
      "2018-12-05 02:25:05,546 - INFO - output dir: CTCF.gimme\n",
      "2018-12-05 02:25:05,548 - INFO - report: CTCF.gimme/motif_report.html\n"
     ]
    }
   ],
   "source": [
    "motifs = gimme_motifs(peaks, outdir,\n",
    "    params=params, filter_significant=False, create_report=False)"
   ]
  },
  {
   "cell_type": "markdown",
   "metadata": {},
   "source": [
    "All parameters for motif finding are set by the `params` argument"
   ]
  },
  {
   "cell_type": "markdown",
   "metadata": {},
   "source": [
    "Although the `gimme_motifs` function is probably the easiest way to run the `de novo` finding tools, you can also run any of the tools directly. In this case you would also have to supply the background file if the specific tool requires it."
   ]
  },
  {
   "cell_type": "code",
   "execution_count": 31,
   "metadata": {},
   "outputs": [
    {
     "name": "stdout",
     "output_type": "stream",
     "text": [
      "nnnCnTGynnnGrCwTGyyn\n"
     ]
    }
   ],
   "source": [
    "from gimmemotifs.tools import get_tool\n",
    "from gimmemotifs.background import MatchedGcFasta\n",
    "\n",
    "m = get_tool(\"homer\")  # tool name is case-insensitive\n",
    "\n",
    "# Create a background fasta file with a similar GC%\n",
    "fa = MatchedGcFasta(\"TAp73alpha.fa\", number=1000)\n",
    "fa.writefasta(\"bg.fa\")\n",
    "\n",
    "# Run motif prediction\n",
    "params = {\n",
    "    \"background\": \"bg.fa\",\n",
    "    \"width\": \"20\",\n",
    "    \"number\": 5,\n",
    "}\n",
    "\n",
    "motifs, stdout, stderr = m.run(\"TAp73alpha.fa\", params=params)\n",
    "print(motifs[0].to_consensus())"
   ]
  },
  {
   "cell_type": "markdown",
   "metadata": {},
   "source": [
    "# Motif statistics\n",
    "\n",
    "With some motifs, a sample file and a background file you can calculate motif statistics. Let’s say I wanted to know which of the p53-family motifs is most enriched in the file TAp73alpha.fa.\n",
    "\n",
    "First, we’ll generate a GC%-matched genomic background. Then we only select p53 motifs.\n"
   ]
  },
  {
   "cell_type": "code",
   "execution_count": 32,
   "metadata": {},
   "outputs": [
    {
     "name": "stdout",
     "output_type": "stream",
     "text": [
      "Stats for GM.5.0.p53.0001_rCATGyCCnGrCATGy\n",
      "recall_at_fdr 0.833\n",
      "fraction_fpr 0.416\n",
      "score_at_fpr 9.05025905735\n",
      "enr_at_fpr 41.6\n",
      "max_enrichment 55.5\n",
      "phyper_at_fpr 3.33220067463e-132\n",
      "mncp 1.85474606318\n",
      "roc_auc 0.9211925\n",
      "roc_auc_xlim 0.0680115\n",
      "pr_auc 0.927368602993\n",
      "max_fmeasure 0.867519181586\n",
      "ks_pvalue 0.0\n",
      "ks_significance inf\n",
      "\n",
      "Best motif (recall at 10% FDR): GM.5.0.p53.0001_rCATGyCCnGrCATGy\n"
     ]
    }
   ],
   "source": [
    "from gimmemotifs.background import MatchedGcFasta\n",
    "from gimmemotifs.fasta import Fasta\n",
    "from gimmemotifs.stats import calc_stats\n",
    "from gimmemotifs.motif import default_motifs\n",
    "\n",
    "sample = \"TAp73alpha.fa\"\n",
    "bg = MatchedGcFasta(sample, genome=\"hg19\", number=1000)\n",
    "\n",
    "motifs = [m for m in default_motifs() if any(f in m.factors['direct'] for f in [\"TP53\", \"TP63\", \"TP73\"])]\n",
    "\n",
    "stats = calc_stats(motifs, sample, bg)\n",
    "\n",
    "print(\"Stats for\", motifs[0])\n",
    "for k, v in stats[str(motifs[0])].items():\n",
    "    print(k,v)\n",
    "\n",
    "print()\n",
    "\n",
    "best_motif = sorted(motifs, key=lambda x: stats[str(x)][\"recall_at_fdr\"])[-1]\n",
    "print(\"Best motif (recall at 10% FDR):\", best_motif)"
   ]
  },
  {
   "cell_type": "markdown",
   "metadata": {},
   "source": [
    "A lot of statistics are generated and you will not always need all of them. You can choose one or more specific metrics with the additional `stats` argument.\n"
   ]
  },
  {
   "cell_type": "code",
   "execution_count": 33,
   "metadata": {},
   "outputs": [
    {
     "name": "stdout",
     "output_type": "stream",
     "text": [
      "GM.5.0.p53.0001\troc_auc\t0.92\n",
      "GM.5.0.p53.0003\troc_auc\t0.89\n",
      "GM.5.0.p53.0004\troc_auc\t0.91\n",
      "GM.5.0.p53.0005\troc_auc\t0.86\n",
      "GM.5.0.p53.0006\troc_auc\t0.80\n",
      "GM.5.0.p53.0007\troc_auc\t0.87\n",
      "GM.5.0.p53.0008\troc_auc\t0.82\n",
      "GM.5.0.p53.0010\troc_auc\t0.80\n",
      "GM.5.0.p53.0011\troc_auc\t0.85\n",
      "GM.5.0.p53.0001\trecall_at_fdr\t0.83\n",
      "GM.5.0.p53.0003\trecall_at_fdr\t0.64\n",
      "GM.5.0.p53.0004\trecall_at_fdr\t0.74\n",
      "GM.5.0.p53.0005\trecall_at_fdr\t0.58\n",
      "GM.5.0.p53.0006\trecall_at_fdr\t0.19\n",
      "GM.5.0.p53.0007\trecall_at_fdr\t0.66\n",
      "GM.5.0.p53.0008\trecall_at_fdr\t0.18\n",
      "GM.5.0.p53.0010\trecall_at_fdr\t0.20\n",
      "GM.5.0.p53.0011\trecall_at_fdr\t0.53\n"
     ]
    }
   ],
   "source": [
    "metrics = [\"roc_auc\", \"recall_at_fdr\"]\n",
    "stats = calc_stats(motifs, sample, bg, stats=metrics)\n",
    "\n",
    "for metric in metrics:\n",
    "    for motif in motifs:\n",
    "        print(\"{}\\t{}\\t{:.2f}\".format(\n",
    "            motif.id, metric, stats[str(motif)][metric]\n",
    "            ))"
   ]
  },
  {
   "cell_type": "markdown",
   "metadata": {},
   "source": [
    "# Motif comparison"
   ]
  },
  {
   "cell_type": "code",
   "execution_count": 34,
   "metadata": {},
   "outputs": [],
   "source": [
    "from gimmemotifs.comparison import MotifComparer\n",
    "from gimmemotifs.motif import motif_from_consensus\n",
    "from gimmemotifs.motif import read_motifs"
   ]
  },
  {
   "cell_type": "markdown",
   "metadata": {},
   "source": [
    "Compare two motifs"
   ]
  },
  {
   "cell_type": "code",
   "execution_count": 36,
   "metadata": {},
   "outputs": [
    {
     "name": "stdout",
     "output_type": "stream",
     "text": [
      "rrrCATGyyy\n",
      "  ACAyGA\n"
     ]
    }
   ],
   "source": [
    "m1 = motif_from_consensus(\"RRRCATGYYY\")\n",
    "m2 = motif_from_consensus(\"TCRTGT\")\n",
    "\n",
    "mc = MotifComparer()\n",
    "score, pos, orient = mc.compare_motifs(m1, m2)\n",
    "\n",
    "if orient == -1:\n",
    "    m2 = m2.rc()\n",
    "pad1, pad2 = \"\", \"\"\n",
    "if pos < 0:\n",
    "    pad1 = \" \" * -pos \n",
    "elif pos > 0:\n",
    "    pad2 =\" \" * pos\n",
    "print(pad1 + m1.to_consensus())\n",
    "print(pad2 + m2.to_consensus())"
   ]
  },
  {
   "cell_type": "markdown",
   "metadata": {},
   "source": [
    "Find closest match in a motif database"
   ]
  },
  {
   "cell_type": "code",
   "execution_count": 37,
   "metadata": {},
   "outputs": [
    {
     "name": "stdout",
     "output_type": "stream",
     "text": [
      "GATA: AGATAASR_GATA3(Zf)/iTreg-Gata3-ChIP-Seq(GSE20898)/Homer - 0.823\n",
      " GATA\n",
      "AGATAAnr\n",
      "\n",
      "NTATAWA: NGYCATAAAWCH_CDX4(Homeobox)/ZebrafishEmbryos-Cdx4.Myc-ChIP-Seq(GSE48254)/Homer - 0.747\n",
      "  nTATAwA\n",
      "nnynrTAAAnnn\n",
      "\n",
      "ACGCG: NCCACGTG_c-Myc(bHLH)/LNCAP-cMyc-ChIP-Seq(Unpublished)/Homer - 0.744\n",
      " ACGCG\n",
      "CACGTGGn\n",
      "\n"
     ]
    }
   ],
   "source": [
    "motifs = [\n",
    "    motif_from_consensus(\"GATA\"),\n",
    "    motif_from_consensus(\"NTATAWA\"),\n",
    "    motif_from_consensus(\"ACGCG\"),\n",
    "]\n",
    "\n",
    "mc = MotifComparer()\n",
    "results = mc.get_closest_match(motifs, dbmotifs=read_motifs(\"HOMER\"), metric=\"seqcor\")\n",
    "\n",
    "# Load motifs\n",
    "db = read_motifs(\"HOMER\", as_dict=True)\n",
    "\n",
    "for motif in motifs:\n",
    "    match, scores = results[motif.id]\n",
    "    print(\"{}: {} - {:.3f}\".format(motif.id, match, scores[0]))\n",
    "    dbmotif = db[match]\n",
    "    orient = scores[2]\n",
    "    if orient == -1:\n",
    "        dbmotif = dbmotif.rc()\n",
    "    padm, padd = 0, 0\n",
    "    if scores[1] < 0:\n",
    "        padm = -scores[1]\n",
    "    elif scores[1] > 0:\n",
    "        padd = scores[1]\n",
    "    print(\" \" * padm + motif.to_consensus())\n",
    "    print(\" \" * padd + dbmotif.to_consensus())\n",
    "    print()"
   ]
  },
  {
   "cell_type": "code",
   "execution_count": null,
   "metadata": {},
   "outputs": [],
   "source": []
  },
  {
   "cell_type": "code",
   "execution_count": null,
   "metadata": {},
   "outputs": [],
   "source": []
  }
 ],
 "metadata": {
  "kernelspec": {
   "display_name": "Python [conda env:gimme]",
   "language": "python",
   "name": "conda-env-gimme-py"
  },
  "language_info": {
   "codemirror_mode": {
    "name": "ipython",
    "version": 3
   },
   "file_extension": ".py",
   "mimetype": "text/x-python",
   "name": "python",
   "nbconvert_exporter": "python",
   "pygments_lexer": "ipython3",
   "version": "3.6.6"
  }
 },
 "nbformat": 4,
 "nbformat_minor": 2
}
